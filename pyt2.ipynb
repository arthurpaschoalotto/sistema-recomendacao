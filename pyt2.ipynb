{
 "cells": [
  {
   "cell_type": "markdown",
   "metadata": {},
   "source": [
    "# Exercícios\n",
    "\n",
    "Sistemas de Recomendação\n",
    "Para esse conjunto de exercícios vamos utilizar novamente o dataset MovieLens 100k que utilizamos em nosso Warmup\n",
    "\n",
    "Utilizando esse Dataset, implemente as funcionalidades a seguir, podendo agora utilizar as bibliotecas padrões do python (numpy, math, scipy ) para implementar suas soluções. Faça a organização do seu código agora utilizando funções buscando reutilizar seu código."
   ]
  },
  {
   "cell_type": "code",
   "execution_count": 1,
   "metadata": {},
   "outputs": [],
   "source": [
    "from datetime import datetime\n",
    "import math\n",
    "import random\n",
    "import numpy as np\n",
    "import copy\n",
    "\n",
    "# Função para leitura do arquivo, a partir do caminho ele salvo na variavel arquivo ele faz a leitura das linhas e salva dentro de um array final de forma estruturada\n",
    "def get_data(arquivo, split, append):\n",
    "    final = []\n",
    "\n",
    "    with open('ml-100k/' + arquivo, encoding=\"ISO-8859-1\") as arq:\n",
    "        for lines in arq:\n",
    "            arr=lines.split(split)\n",
    "            if(len(arr)>1):\n",
    "                final.append(append(arr))\n",
    "    return final"
   ]
  },
  {
   "cell_type": "code",
   "execution_count": 2,
   "metadata": {},
   "outputs": [],
   "source": [
    "# De maneira organizada ele vai guardar os valores em um dicionario, usando o rotulo e a posição no array para valor do mesmo\n",
    "append_review = lambda arr : {\n",
    "            \"user\": int(arr[0]),\n",
    "            \"movie\": int(arr[1]),\n",
    "            \"rating\": int(arr[2]),\n",
    "            \"year\": datetime.fromtimestamp(int(arr[3])).year\n",
    "        }\n",
    "        \n",
    "movies = get_data('u.item', '|', lambda arr: {\n",
    "            \"id\": int(arr[0]),\n",
    "            \"movie\":        arr[1],\n",
    "            \"unknown\":      int(arr[5]),\n",
    "            \"Action\":       int(arr[6]),\n",
    "            \"Adventure\":    int(arr[7]),\n",
    "            \"Animation\":    int(arr[8]),\n",
    "            \"Children's\":   int(arr[9]),\n",
    "            \"Comedy\":       int(arr[10]),\n",
    "            \"Crime\":        int(arr[11]),\n",
    "            \"Documentary\":  int(arr[12]),\n",
    "            \"Drama\":        int(arr[13]),\n",
    "            \"Fantasy\":      int(arr[14]),\n",
    "            \"Film-Noir\":    int(arr[15]),\n",
    "            \"Horror\":       int(arr[16]),\n",
    "            \"Musical\":      int(arr[17]),\n",
    "            \"Mystery\":      int(arr[18]),\n",
    "            \"Romance\":      int(arr[19]),\n",
    "            \"Sci-Fi\":       int(arr[20]),\n",
    "            \"Thriller\":     int(arr[21]),\n",
    "            \"War\":          int(arr[22]),\n",
    "            \"Western\":      int(arr[23])\n",
    "        })\n",
    "\n",
    "reviews = get_data('u.data', None, lambda arr : {\n",
    "            \"user\": int(arr[0]),\n",
    "            \"movie\": int(arr[1]),\n",
    "            \"rating\": int(arr[2]),\n",
    "            \"year\": datetime.fromtimestamp(int(arr[3])).year\n",
    "        })"
   ]
  },
  {
   "cell_type": "markdown",
   "metadata": {},
   "source": [
    "1. Implementar o algoritmo de Similaridade do Cosseno;\n",
    "- A similaridade por cosseno é uma medida da similareda de entre dois vetores num espaço vetorial que avalia o valor do cosseno do ângulo compreendido entre eles. "
   ]
  },
  {
   "cell_type": "code",
   "execution_count": 3,
   "metadata": {},
   "outputs": [
    {
     "data": {
      "text/plain": [
       "0.7071067811865475"
      ]
     },
     "execution_count": 3,
     "metadata": {},
     "output_type": "execute_result"
    }
   ],
   "source": [
    "# Função criada com entrada para duas variaveis, também criada a variavel para soma final e duas auxiliares. Primeiramente ele faz um comparativo dos valores das duas\n",
    "# variaveis, se caso corresponder a condição ele fara o calculo da similiaridade do cosseno -> A x B / ||A|| x ||B||\n",
    "def cosseno(V1, V2):\n",
    "    sum = 0\n",
    "    auxA = 0\n",
    "    auxB = 0\n",
    "    if(len(V1) == len(V2)):\n",
    "        for i in range(len(V1)):\n",
    "            sum = sum + V1[i]*V2[i]\n",
    "            auxA = auxA + (V1[i])**2\n",
    "            auxB = auxB + (V2[i])**2\n",
    "        cosine = sum/(math.sqrt(auxA)*math.sqrt(auxB))\n",
    "        return cosine\n",
    "\n",
    "# Cria variaveis e atribui um valor random que corresponde a um filme\n",
    "film1genres = list(movies[random.randrange(len(movies))].values())[2:]\n",
    "film2genres = list(movies[random.randrange(len(movies))].values())[2:]\n",
    "\n",
    "# Pega os 2 filmes aleatorios, e calcula a similaridade do cosseno a partir dos seus generos\n",
    "cosseno(film1genres, film2genres)"
   ]
  },
  {
   "cell_type": "markdown",
   "metadata": {},
   "source": [
    "2. Implementar um Sistema de Recomendações, usando a técnica de Filtros Colaborativos baseados no usuário;"
   ]
  },
  {
   "cell_type": "code",
   "execution_count": 4,
   "metadata": {},
   "outputs": [
    {
     "name": "stdout",
     "output_type": "stream",
     "text": [
      "Baseado nos reviews do usuario 754, talvez ele goste de: \n",
      "1 - Cinema Paradiso (1988)\n",
      "2 - Wings of Desire (1987)\n",
      "3 - Manhattan (1979)\n",
      "4 - American President, The (1995)\n",
      "5 - Corrina, Corrina (1994)\n"
     ]
    }
   ],
   "source": [
    "# Numero de indicacoes\n",
    "number_of_indications=5\n",
    "# Usuario aletorio\n",
    "user_number= random.randint(1, 943)\n",
    "# vetor de generos cru, onde o review positivos serão somados\n",
    "genres_vector = [0, 0, 0, 0, 0, 0, 0, 0, 0, 0, 0, 0, 0, 0, 0, 0, 0, 0, 0]\n",
    "# armazena filmes que o usuario deu review\n",
    "user_movies = []\n",
    "# ranking de filmes selecionados\n",
    "top = []\n",
    "\n",
    "# faz leitura de todos filmes que usuario deu review e somar o vetor de generos\n",
    "for i in reviews:\n",
    "    if(i['user'] == user_number):\n",
    "        user_movies.append(i[\"movie\"])\n",
    "        if(i['rating'] >= 4):\n",
    "            genres = np.array(list(movies[i['movie']].values())[2:])\n",
    "            genres_vector = np.add(np.array(genres_vector), genres)\n",
    "\n",
    "# faz loop no filme, verifica se o filme esta nos filmes que usuario deu review, salva filme no array top\n",
    "for i in movies:\n",
    "    if not (i['id'] in user_movies):\n",
    "        genres = list(i.values())[2:]\n",
    "        new = copy.deepcopy(i)\n",
    "        new['cos'] = cosseno(genres_vector, genres)\n",
    "        top.append(new)\n",
    "\n",
    "# Ordena por valor de cos\n",
    "sorted_arr = sorted(top, key=lambda d: d['cos'], reverse=True)[:number_of_indications]\n",
    "\n",
    "# Apresenta os filmes\n",
    "print(f'Baseado nos reviews do usuario {user_number}, talvez ele goste de: ')\n",
    "for idx, i in enumerate(sorted_arr):\n",
    "    print(f'{idx+1} - {i[\"movie\"]}')"
   ]
  },
  {
   "cell_type": "markdown",
   "metadata": {},
   "source": [
    "3.Implementar um Sistema de Recomendações, usando a técnica de Filtros Colaborativos baseados na similaridade entre os itens (filmes);"
   ]
  },
  {
   "cell_type": "code",
   "execution_count": 8,
   "metadata": {},
   "outputs": [
    {
     "name": "stdout",
     "output_type": "stream",
     "text": [
      "Filmes similares a Inventing the Abbotts (1997): \n",
      "1 - Postino, Il (1994)\n",
      "2 - Angels and Insects (1995)\n",
      "3 - Mad Love (1995)\n",
      "4 - Phenomenon (1996)\n",
      "5 - Breakfast at Tiffany's (1961)\n",
      "6 - Graduate, The (1967)\n",
      "7 - Room with a View, A (1986)\n",
      "8 - Jerry Maguire (1996)\n",
      "9 - Chasing Amy (1997)\n",
      "10 - Pillow Book, The (1995)\n"
     ]
    }
   ],
   "source": [
    "# numero de filmes que serão apresentados\n",
    "number_of_indications=10\n",
    "# ranking de filmes selecionados\n",
    "top = []\n",
    "# numero aleatorio de filmes, variação do numero 2 ate o numero total de filmes\n",
    "movie_number = random.randint(1, len(movies)+1)\n",
    "# lista de filmes, pega o index do filme selecionado\n",
    "get_movie = movies[movie_number-1]\n",
    "# transforma dicionario de filme para uma lista e a partir dele ele pega os dois valores para frente\n",
    "film_genres = list(get_movie.values())[2:]\n",
    "\n",
    "# Verifica em todos os filmes\n",
    "for i in movies:\n",
    "    if(i[\"id\"] != movie_number):\n",
    "        genres = list(i.values())[2:] # pega os generos dentro do loop, a partir da 2 (id, nome, generos)\n",
    "        new = copy.deepcopy(i) # copia profunda, onde não altera o valor de origem\n",
    "        new['cos'] = cosseno(film_genres, genres) # faz verificacao do cosseno para verificar a semelhança \n",
    "        top.append(new) # sobe no array o filme que se assemelha, ao final lista todos os filmes semelhantes\n",
    "\n",
    "# ordena o array com base no valor de cos, pega os 10 primeiros valores \n",
    "sorted_arr = sorted(top, key=lambda d: d['cos'], reverse=True)[:number_of_indications]\n",
    "\n",
    "# printa os filmes\n",
    "print(f'Filmes similares a {get_movie[\"movie\"]}: ')\n",
    "\n",
    "# apresenta os filmes, utiliza idx para pegar os dados do filme pelo index\n",
    "for idx, i in enumerate(sorted_arr):\n",
    "    print(f'{idx+1} - {i[\"movie\"]}')"
   ]
  },
  {
   "cell_type": "markdown",
   "metadata": {},
   "source": [
    "4.Implementar a Medida de Correlação de Pearson como medida de similaridade;"
   ]
  },
  {
   "cell_type": "code",
   "execution_count": 6,
   "metadata": {},
   "outputs": [
    {
     "name": "stdout",
     "output_type": "stream",
     "text": [
      "0.1881204043741873\n"
     ]
    }
   ],
   "source": [
    "from scipy.stats import pearsonr\n",
    "\n",
    "x = pearsonr([-2, -1, 0, 1, 2], [4, 1, 3, 2, 0])\n",
    "\n",
    "print(x.pvalue)"
   ]
  }
 ],
 "metadata": {
  "kernelspec": {
   "display_name": "Python 3.8.10 64-bit",
   "language": "python",
   "name": "python3"
  },
  "language_info": {
   "codemirror_mode": {
    "name": "ipython",
    "version": 3
   },
   "file_extension": ".py",
   "mimetype": "text/x-python",
   "name": "python",
   "nbconvert_exporter": "python",
   "pygments_lexer": "ipython3",
   "version": "3.8.10"
  },
  "orig_nbformat": 4,
  "vscode": {
   "interpreter": {
    "hash": "916dbcbb3f70747c44a77c7bcd40155683ae19c65e1c03b4aa3499c5328201f1"
   }
  }
 },
 "nbformat": 4,
 "nbformat_minor": 2
}
